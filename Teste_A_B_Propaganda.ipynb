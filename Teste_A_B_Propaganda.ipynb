{
  "nbformat": 4,
  "nbformat_minor": 0,
  "metadata": {
    "colab": {
      "name": "Teste A/B Propaganda.ipynb",
      "provenance": []
    },
    "kernelspec": {
      "name": "python3",
      "display_name": "Python 3"
    },
    "language_info": {
      "name": "python"
    }
  },
  "cells": [
    {
      "cell_type": "markdown",
      "source": [
        "# Teste A/B Propaganda"
      ],
      "metadata": {
        "id": "JxpfZZEIEtmV"
      }
    },
    {
      "cell_type": "markdown",
      "source": [
        "Dataset contendo um teste A/B feio por uma agência de propaganda."
      ],
      "metadata": {
        "id": "3iKnVXb2H6xV"
      }
    },
    {
      "cell_type": "markdown",
      "source": [
        "Fonte: https://www.kaggle.com/datasets/osuolaleemmanuel/ad-ab-testing"
      ],
      "metadata": {
        "id": "LzGsYuTqEybL"
      }
    },
    {
      "cell_type": "markdown",
      "source": [
        "#### Dicionário"
      ],
      "metadata": {
        "id": "2JRuallZH12j"
      }
    },
    {
      "cell_type": "markdown",
      "source": [
        "**auction_id:** identificação do usuário que teve contato com o teste. Os usuários que optarem por não responder terão a colunas 'yes' e 'no' com valor 0.\n",
        "\n",
        "**experiment:** grupo do usuário, controle ou experimental\n",
        "  * control: usuários que viram um anúncio fictício.\n",
        "  * exposed: usuários que viram o anúncio a ser experimentado. Um anúncio interativo, com a marca SmartAd.\n",
        "\n",
        "**date:** data em que o usuário teve contato com o experimento (no formato YYYY-MM-DD).\n",
        "\n",
        "**hour:** hora do dia (no formato HH)\n",
        "\n",
        "**device_make:** nome do tipo de aparelho do usuário.\n",
        "\n",
        "**platform_os:** id do sistema operacional do usuário.\n",
        "\n",
        "**browser:** nome do navegador que o usuário utilizou para ver o questionário.\n",
        "\n",
        "**yes:** 1 se o usuário pressionou o botão YES do questionário.\n",
        "\n",
        "**no:** 1 se o usuário pressionou o botão NO do questionário."
      ],
      "metadata": {
        "id": "0mWe3mY6FDVe"
      }
    },
    {
      "cell_type": "markdown",
      "source": [
        "### Imports"
      ],
      "metadata": {
        "id": "ox2nVyV9CcpF"
      }
    },
    {
      "cell_type": "code",
      "source": [
        "!pip install matplotlib==3.4.0"
      ],
      "metadata": {
        "colab": {
          "base_uri": "https://localhost:8080/"
        },
        "id": "hc3FdbjzExVZ",
        "outputId": "b9089f5a-a551-428c-fe41-2fd91f9bb680"
      },
      "execution_count": 1,
      "outputs": [
        {
          "output_type": "stream",
          "name": "stdout",
          "text": [
            "Looking in indexes: https://pypi.org/simple, https://us-python.pkg.dev/colab-wheels/public/simple/\n",
            "Requirement already satisfied: matplotlib==3.4.0 in /usr/local/lib/python3.7/dist-packages (3.4.0)\n",
            "Requirement already satisfied: pillow>=6.2.0 in /usr/local/lib/python3.7/dist-packages (from matplotlib==3.4.0) (7.1.2)\n",
            "Requirement already satisfied: cycler>=0.10 in /usr/local/lib/python3.7/dist-packages (from matplotlib==3.4.0) (0.11.0)\n",
            "Requirement already satisfied: numpy>=1.16 in /usr/local/lib/python3.7/dist-packages (from matplotlib==3.4.0) (1.21.6)\n",
            "Requirement already satisfied: python-dateutil>=2.7 in /usr/local/lib/python3.7/dist-packages (from matplotlib==3.4.0) (2.8.2)\n",
            "Requirement already satisfied: pyparsing>=2.2.1 in /usr/local/lib/python3.7/dist-packages (from matplotlib==3.4.0) (3.0.9)\n",
            "Requirement already satisfied: kiwisolver>=1.0.1 in /usr/local/lib/python3.7/dist-packages (from matplotlib==3.4.0) (1.4.4)\n",
            "Requirement already satisfied: typing-extensions in /usr/local/lib/python3.7/dist-packages (from kiwisolver>=1.0.1->matplotlib==3.4.0) (4.1.1)\n",
            "Requirement already satisfied: six>=1.5 in /usr/local/lib/python3.7/dist-packages (from python-dateutil>=2.7->matplotlib==3.4.0) (1.15.0)\n"
          ]
        }
      ]
    },
    {
      "cell_type": "code",
      "source": [
        "import pandas as pd\n",
        "import seaborn as sns\n",
        "import matplotlib.pyplot as plt"
      ],
      "metadata": {
        "id": "AoMQ5UahH16Z"
      },
      "execution_count": 20,
      "outputs": []
    },
    {
      "cell_type": "markdown",
      "source": [
        "# Abertura do dataset"
      ],
      "metadata": {
        "id": "AjhEGq4hIXaL"
      }
    },
    {
      "cell_type": "code",
      "execution_count": 2,
      "metadata": {
        "colab": {
          "base_uri": "https://localhost:8080/"
        },
        "id": "5cNDx7pOEpMJ",
        "outputId": "6d7b372a-42c5-4229-9f0e-5a3b6a4be0cc"
      },
      "outputs": [
        {
          "output_type": "stream",
          "name": "stdout",
          "text": [
            "Looking in indexes: https://pypi.org/simple, https://us-python.pkg.dev/colab-wheels/public/simple/\n",
            "Requirement already satisfied: opendatasets in /usr/local/lib/python3.7/dist-packages (0.1.22)\n",
            "Requirement already satisfied: kaggle in /usr/local/lib/python3.7/dist-packages (from opendatasets) (1.5.12)\n",
            "Requirement already satisfied: tqdm in /usr/local/lib/python3.7/dist-packages (from opendatasets) (4.64.0)\n",
            "Requirement already satisfied: click in /usr/local/lib/python3.7/dist-packages (from opendatasets) (7.1.2)\n",
            "Requirement already satisfied: python-dateutil in /usr/local/lib/python3.7/dist-packages (from kaggle->opendatasets) (2.8.2)\n",
            "Requirement already satisfied: six>=1.10 in /usr/local/lib/python3.7/dist-packages (from kaggle->opendatasets) (1.15.0)\n",
            "Requirement already satisfied: certifi in /usr/local/lib/python3.7/dist-packages (from kaggle->opendatasets) (2022.6.15)\n",
            "Requirement already satisfied: requests in /usr/local/lib/python3.7/dist-packages (from kaggle->opendatasets) (2.23.0)\n",
            "Requirement already satisfied: python-slugify in /usr/local/lib/python3.7/dist-packages (from kaggle->opendatasets) (6.1.2)\n",
            "Requirement already satisfied: urllib3 in /usr/local/lib/python3.7/dist-packages (from kaggle->opendatasets) (1.24.3)\n",
            "Requirement already satisfied: text-unidecode>=1.3 in /usr/local/lib/python3.7/dist-packages (from python-slugify->kaggle->opendatasets) (1.3)\n",
            "Requirement already satisfied: idna<3,>=2.5 in /usr/local/lib/python3.7/dist-packages (from requests->kaggle->opendatasets) (2.10)\n",
            "Requirement already satisfied: chardet<4,>=3.0.2 in /usr/local/lib/python3.7/dist-packages (from requests->kaggle->opendatasets) (3.0.4)\n",
            "Skipping, found downloaded files in \"./ad-ab-testing\" (use force=True to force download)\n"
          ]
        }
      ],
      "source": [
        "# Tutorial: https://www.analyticsvidhya.com/blog/2021/04/how-to-download-kaggle-datasets-using-jupyter-notebook/\n",
        "\n",
        "!pip install opendatasets\n",
        "import opendatasets as od\n",
        "od.download(\"https://www.kaggle.com/datasets/osuolaleemmanuel/ad-ab-testing\")"
      ]
    },
    {
      "cell_type": "code",
      "source": [
        "data = pd.read_csv('/content/ad-ab-testing/AdSmartABdata - AdSmartABdata.csv')\n",
        "data.head()"
      ],
      "metadata": {
        "colab": {
          "base_uri": "https://localhost:8080/",
          "height": 206
        },
        "id": "NPmQWA_KI2sY",
        "outputId": "2564068b-cbf2-407c-f395-935bc6cabfcf"
      },
      "execution_count": 112,
      "outputs": [
        {
          "output_type": "execute_result",
          "data": {
            "text/plain": [
              "                             auction_id experiment        date  hour  \\\n",
              "0  0008ef63-77a7-448b-bd1e-075f42c55e39    exposed  2020-07-10     8   \n",
              "1  000eabc5-17ce-4137-8efe-44734d914446    exposed  2020-07-07    10   \n",
              "2  0016d14a-ae18-4a02-a204-6ba53b52f2ed    exposed  2020-07-05     2   \n",
              "3  00187412-2932-4542-a8ef-3633901c98d9    control  2020-07-03    15   \n",
              "4  001a7785-d3fe-4e11-a344-c8735acacc2c    control  2020-07-03    15   \n",
              "\n",
              "          device_make  platform_os                browser  yes  no  \n",
              "0  Generic Smartphone            6          Chrome Mobile    0   0  \n",
              "1  Generic Smartphone            6          Chrome Mobile    0   0  \n",
              "2               E5823            6  Chrome Mobile WebView    0   1  \n",
              "3   Samsung SM-A705FN            6               Facebook    0   0  \n",
              "4  Generic Smartphone            6          Chrome Mobile    0   0  "
            ],
            "text/html": [
              "\n",
              "  <div id=\"df-881e1f15-d695-4370-8d25-99d24f9ec294\">\n",
              "    <div class=\"colab-df-container\">\n",
              "      <div>\n",
              "<style scoped>\n",
              "    .dataframe tbody tr th:only-of-type {\n",
              "        vertical-align: middle;\n",
              "    }\n",
              "\n",
              "    .dataframe tbody tr th {\n",
              "        vertical-align: top;\n",
              "    }\n",
              "\n",
              "    .dataframe thead th {\n",
              "        text-align: right;\n",
              "    }\n",
              "</style>\n",
              "<table border=\"1\" class=\"dataframe\">\n",
              "  <thead>\n",
              "    <tr style=\"text-align: right;\">\n",
              "      <th></th>\n",
              "      <th>auction_id</th>\n",
              "      <th>experiment</th>\n",
              "      <th>date</th>\n",
              "      <th>hour</th>\n",
              "      <th>device_make</th>\n",
              "      <th>platform_os</th>\n",
              "      <th>browser</th>\n",
              "      <th>yes</th>\n",
              "      <th>no</th>\n",
              "    </tr>\n",
              "  </thead>\n",
              "  <tbody>\n",
              "    <tr>\n",
              "      <th>0</th>\n",
              "      <td>0008ef63-77a7-448b-bd1e-075f42c55e39</td>\n",
              "      <td>exposed</td>\n",
              "      <td>2020-07-10</td>\n",
              "      <td>8</td>\n",
              "      <td>Generic Smartphone</td>\n",
              "      <td>6</td>\n",
              "      <td>Chrome Mobile</td>\n",
              "      <td>0</td>\n",
              "      <td>0</td>\n",
              "    </tr>\n",
              "    <tr>\n",
              "      <th>1</th>\n",
              "      <td>000eabc5-17ce-4137-8efe-44734d914446</td>\n",
              "      <td>exposed</td>\n",
              "      <td>2020-07-07</td>\n",
              "      <td>10</td>\n",
              "      <td>Generic Smartphone</td>\n",
              "      <td>6</td>\n",
              "      <td>Chrome Mobile</td>\n",
              "      <td>0</td>\n",
              "      <td>0</td>\n",
              "    </tr>\n",
              "    <tr>\n",
              "      <th>2</th>\n",
              "      <td>0016d14a-ae18-4a02-a204-6ba53b52f2ed</td>\n",
              "      <td>exposed</td>\n",
              "      <td>2020-07-05</td>\n",
              "      <td>2</td>\n",
              "      <td>E5823</td>\n",
              "      <td>6</td>\n",
              "      <td>Chrome Mobile WebView</td>\n",
              "      <td>0</td>\n",
              "      <td>1</td>\n",
              "    </tr>\n",
              "    <tr>\n",
              "      <th>3</th>\n",
              "      <td>00187412-2932-4542-a8ef-3633901c98d9</td>\n",
              "      <td>control</td>\n",
              "      <td>2020-07-03</td>\n",
              "      <td>15</td>\n",
              "      <td>Samsung SM-A705FN</td>\n",
              "      <td>6</td>\n",
              "      <td>Facebook</td>\n",
              "      <td>0</td>\n",
              "      <td>0</td>\n",
              "    </tr>\n",
              "    <tr>\n",
              "      <th>4</th>\n",
              "      <td>001a7785-d3fe-4e11-a344-c8735acacc2c</td>\n",
              "      <td>control</td>\n",
              "      <td>2020-07-03</td>\n",
              "      <td>15</td>\n",
              "      <td>Generic Smartphone</td>\n",
              "      <td>6</td>\n",
              "      <td>Chrome Mobile</td>\n",
              "      <td>0</td>\n",
              "      <td>0</td>\n",
              "    </tr>\n",
              "  </tbody>\n",
              "</table>\n",
              "</div>\n",
              "      <button class=\"colab-df-convert\" onclick=\"convertToInteractive('df-881e1f15-d695-4370-8d25-99d24f9ec294')\"\n",
              "              title=\"Convert this dataframe to an interactive table.\"\n",
              "              style=\"display:none;\">\n",
              "        \n",
              "  <svg xmlns=\"http://www.w3.org/2000/svg\" height=\"24px\"viewBox=\"0 0 24 24\"\n",
              "       width=\"24px\">\n",
              "    <path d=\"M0 0h24v24H0V0z\" fill=\"none\"/>\n",
              "    <path d=\"M18.56 5.44l.94 2.06.94-2.06 2.06-.94-2.06-.94-.94-2.06-.94 2.06-2.06.94zm-11 1L8.5 8.5l.94-2.06 2.06-.94-2.06-.94L8.5 2.5l-.94 2.06-2.06.94zm10 10l.94 2.06.94-2.06 2.06-.94-2.06-.94-.94-2.06-.94 2.06-2.06.94z\"/><path d=\"M17.41 7.96l-1.37-1.37c-.4-.4-.92-.59-1.43-.59-.52 0-1.04.2-1.43.59L10.3 9.45l-7.72 7.72c-.78.78-.78 2.05 0 2.83L4 21.41c.39.39.9.59 1.41.59.51 0 1.02-.2 1.41-.59l7.78-7.78 2.81-2.81c.8-.78.8-2.07 0-2.86zM5.41 20L4 18.59l7.72-7.72 1.47 1.35L5.41 20z\"/>\n",
              "  </svg>\n",
              "      </button>\n",
              "      \n",
              "  <style>\n",
              "    .colab-df-container {\n",
              "      display:flex;\n",
              "      flex-wrap:wrap;\n",
              "      gap: 12px;\n",
              "    }\n",
              "\n",
              "    .colab-df-convert {\n",
              "      background-color: #E8F0FE;\n",
              "      border: none;\n",
              "      border-radius: 50%;\n",
              "      cursor: pointer;\n",
              "      display: none;\n",
              "      fill: #1967D2;\n",
              "      height: 32px;\n",
              "      padding: 0 0 0 0;\n",
              "      width: 32px;\n",
              "    }\n",
              "\n",
              "    .colab-df-convert:hover {\n",
              "      background-color: #E2EBFA;\n",
              "      box-shadow: 0px 1px 2px rgba(60, 64, 67, 0.3), 0px 1px 3px 1px rgba(60, 64, 67, 0.15);\n",
              "      fill: #174EA6;\n",
              "    }\n",
              "\n",
              "    [theme=dark] .colab-df-convert {\n",
              "      background-color: #3B4455;\n",
              "      fill: #D2E3FC;\n",
              "    }\n",
              "\n",
              "    [theme=dark] .colab-df-convert:hover {\n",
              "      background-color: #434B5C;\n",
              "      box-shadow: 0px 1px 3px 1px rgba(0, 0, 0, 0.15);\n",
              "      filter: drop-shadow(0px 1px 2px rgba(0, 0, 0, 0.3));\n",
              "      fill: #FFFFFF;\n",
              "    }\n",
              "  </style>\n",
              "\n",
              "      <script>\n",
              "        const buttonEl =\n",
              "          document.querySelector('#df-881e1f15-d695-4370-8d25-99d24f9ec294 button.colab-df-convert');\n",
              "        buttonEl.style.display =\n",
              "          google.colab.kernel.accessAllowed ? 'block' : 'none';\n",
              "\n",
              "        async function convertToInteractive(key) {\n",
              "          const element = document.querySelector('#df-881e1f15-d695-4370-8d25-99d24f9ec294');\n",
              "          const dataTable =\n",
              "            await google.colab.kernel.invokeFunction('convertToInteractive',\n",
              "                                                     [key], {});\n",
              "          if (!dataTable) return;\n",
              "\n",
              "          const docLinkHtml = 'Like what you see? Visit the ' +\n",
              "            '<a target=\"_blank\" href=https://colab.research.google.com/notebooks/data_table.ipynb>data table notebook</a>'\n",
              "            + ' to learn more about interactive tables.';\n",
              "          element.innerHTML = '';\n",
              "          dataTable['output_type'] = 'display_data';\n",
              "          await google.colab.output.renderOutput(dataTable, element);\n",
              "          const docLink = document.createElement('div');\n",
              "          docLink.innerHTML = docLinkHtml;\n",
              "          element.appendChild(docLink);\n",
              "        }\n",
              "      </script>\n",
              "    </div>\n",
              "  </div>\n",
              "  "
            ]
          },
          "metadata": {},
          "execution_count": 112
        }
      ]
    },
    {
      "cell_type": "markdown",
      "source": [
        "# Tratamentos"
      ],
      "metadata": {
        "id": "PQpZ8-bLMGyK"
      }
    },
    {
      "cell_type": "code",
      "source": [
        "data.info()"
      ],
      "metadata": {
        "colab": {
          "base_uri": "https://localhost:8080/"
        },
        "id": "bpPNxhMpLOy6",
        "outputId": "3d455792-089d-4098-f680-da7c0db3fd83"
      },
      "execution_count": 113,
      "outputs": [
        {
          "output_type": "stream",
          "name": "stdout",
          "text": [
            "<class 'pandas.core.frame.DataFrame'>\n",
            "RangeIndex: 8077 entries, 0 to 8076\n",
            "Data columns (total 9 columns):\n",
            " #   Column       Non-Null Count  Dtype \n",
            "---  ------       --------------  ----- \n",
            " 0   auction_id   8077 non-null   object\n",
            " 1   experiment   8077 non-null   object\n",
            " 2   date         8077 non-null   object\n",
            " 3   hour         8077 non-null   int64 \n",
            " 4   device_make  8077 non-null   object\n",
            " 5   platform_os  8077 non-null   int64 \n",
            " 6   browser      8077 non-null   object\n",
            " 7   yes          8077 non-null   int64 \n",
            " 8   no           8077 non-null   int64 \n",
            "dtypes: int64(4), object(5)\n",
            "memory usage: 568.0+ KB\n"
          ]
        }
      ]
    },
    {
      "cell_type": "markdown",
      "source": [
        "* Não há dados nulos.\n",
        "* A data pode ser convertida para datetime."
      ],
      "metadata": {
        "id": "iluj_bQOLV_K"
      }
    },
    {
      "cell_type": "code",
      "source": [
        "data.iloc[: ,0].nunique() == data.shape[0]"
      ],
      "metadata": {
        "colab": {
          "base_uri": "https://localhost:8080/"
        },
        "id": "mtelpOIuSS2l",
        "outputId": "24089a6f-3aec-44dd-c643-4b30425b2a74"
      },
      "execution_count": 114,
      "outputs": [
        {
          "output_type": "execute_result",
          "data": {
            "text/plain": [
              "True"
            ]
          },
          "metadata": {},
          "execution_count": 114
        }
      ]
    },
    {
      "cell_type": "markdown",
      "source": [
        "* Não há entrada duplicadas no dataset."
      ],
      "metadata": {
        "id": "BQ_64PFNShxi"
      }
    },
    {
      "cell_type": "code",
      "source": [
        "data['date'] = pd.to_datetime(data['date'])\n",
        "data.info()"
      ],
      "metadata": {
        "colab": {
          "base_uri": "https://localhost:8080/"
        },
        "id": "xKnnRKk6MwhV",
        "outputId": "d5ba0bd7-5292-4bf6-efc4-d0bb50888b0d"
      },
      "execution_count": 115,
      "outputs": [
        {
          "output_type": "stream",
          "name": "stdout",
          "text": [
            "<class 'pandas.core.frame.DataFrame'>\n",
            "RangeIndex: 8077 entries, 0 to 8076\n",
            "Data columns (total 9 columns):\n",
            " #   Column       Non-Null Count  Dtype         \n",
            "---  ------       --------------  -----         \n",
            " 0   auction_id   8077 non-null   object        \n",
            " 1   experiment   8077 non-null   object        \n",
            " 2   date         8077 non-null   datetime64[ns]\n",
            " 3   hour         8077 non-null   int64         \n",
            " 4   device_make  8077 non-null   object        \n",
            " 5   platform_os  8077 non-null   int64         \n",
            " 6   browser      8077 non-null   object        \n",
            " 7   yes          8077 non-null   int64         \n",
            " 8   no           8077 non-null   int64         \n",
            "dtypes: datetime64[ns](1), int64(4), object(4)\n",
            "memory usage: 568.0+ KB\n"
          ]
        }
      ]
    },
    {
      "cell_type": "markdown",
      "source": [
        "# Grupo de controle e experimental"
      ],
      "metadata": {
        "id": "lV2RkxuVCS-p"
      }
    },
    {
      "cell_type": "code",
      "source": [
        "experiment_count = data.groupby('experiment').count().reset_index()[['experiment', 'auction_id']]\n",
        "experiment_count.rename(columns = {'auction_id':'n_users'}, inplace = True)\n",
        "experiment_count"
      ],
      "metadata": {
        "colab": {
          "base_uri": "https://localhost:8080/",
          "height": 112
        },
        "id": "5QQiFE9nDQDg",
        "outputId": "56cd973c-be9f-4646-fd2d-f3f289cec6ce"
      },
      "execution_count": 116,
      "outputs": [
        {
          "output_type": "execute_result",
          "data": {
            "text/plain": [
              "  experiment  n_users\n",
              "0    control     4071\n",
              "1    exposed     4006"
            ],
            "text/html": [
              "\n",
              "  <div id=\"df-0d1174de-5ddf-4487-a9b0-6d62ad81a4da\">\n",
              "    <div class=\"colab-df-container\">\n",
              "      <div>\n",
              "<style scoped>\n",
              "    .dataframe tbody tr th:only-of-type {\n",
              "        vertical-align: middle;\n",
              "    }\n",
              "\n",
              "    .dataframe tbody tr th {\n",
              "        vertical-align: top;\n",
              "    }\n",
              "\n",
              "    .dataframe thead th {\n",
              "        text-align: right;\n",
              "    }\n",
              "</style>\n",
              "<table border=\"1\" class=\"dataframe\">\n",
              "  <thead>\n",
              "    <tr style=\"text-align: right;\">\n",
              "      <th></th>\n",
              "      <th>experiment</th>\n",
              "      <th>n_users</th>\n",
              "    </tr>\n",
              "  </thead>\n",
              "  <tbody>\n",
              "    <tr>\n",
              "      <th>0</th>\n",
              "      <td>control</td>\n",
              "      <td>4071</td>\n",
              "    </tr>\n",
              "    <tr>\n",
              "      <th>1</th>\n",
              "      <td>exposed</td>\n",
              "      <td>4006</td>\n",
              "    </tr>\n",
              "  </tbody>\n",
              "</table>\n",
              "</div>\n",
              "      <button class=\"colab-df-convert\" onclick=\"convertToInteractive('df-0d1174de-5ddf-4487-a9b0-6d62ad81a4da')\"\n",
              "              title=\"Convert this dataframe to an interactive table.\"\n",
              "              style=\"display:none;\">\n",
              "        \n",
              "  <svg xmlns=\"http://www.w3.org/2000/svg\" height=\"24px\"viewBox=\"0 0 24 24\"\n",
              "       width=\"24px\">\n",
              "    <path d=\"M0 0h24v24H0V0z\" fill=\"none\"/>\n",
              "    <path d=\"M18.56 5.44l.94 2.06.94-2.06 2.06-.94-2.06-.94-.94-2.06-.94 2.06-2.06.94zm-11 1L8.5 8.5l.94-2.06 2.06-.94-2.06-.94L8.5 2.5l-.94 2.06-2.06.94zm10 10l.94 2.06.94-2.06 2.06-.94-2.06-.94-.94-2.06-.94 2.06-2.06.94z\"/><path d=\"M17.41 7.96l-1.37-1.37c-.4-.4-.92-.59-1.43-.59-.52 0-1.04.2-1.43.59L10.3 9.45l-7.72 7.72c-.78.78-.78 2.05 0 2.83L4 21.41c.39.39.9.59 1.41.59.51 0 1.02-.2 1.41-.59l7.78-7.78 2.81-2.81c.8-.78.8-2.07 0-2.86zM5.41 20L4 18.59l7.72-7.72 1.47 1.35L5.41 20z\"/>\n",
              "  </svg>\n",
              "      </button>\n",
              "      \n",
              "  <style>\n",
              "    .colab-df-container {\n",
              "      display:flex;\n",
              "      flex-wrap:wrap;\n",
              "      gap: 12px;\n",
              "    }\n",
              "\n",
              "    .colab-df-convert {\n",
              "      background-color: #E8F0FE;\n",
              "      border: none;\n",
              "      border-radius: 50%;\n",
              "      cursor: pointer;\n",
              "      display: none;\n",
              "      fill: #1967D2;\n",
              "      height: 32px;\n",
              "      padding: 0 0 0 0;\n",
              "      width: 32px;\n",
              "    }\n",
              "\n",
              "    .colab-df-convert:hover {\n",
              "      background-color: #E2EBFA;\n",
              "      box-shadow: 0px 1px 2px rgba(60, 64, 67, 0.3), 0px 1px 3px 1px rgba(60, 64, 67, 0.15);\n",
              "      fill: #174EA6;\n",
              "    }\n",
              "\n",
              "    [theme=dark] .colab-df-convert {\n",
              "      background-color: #3B4455;\n",
              "      fill: #D2E3FC;\n",
              "    }\n",
              "\n",
              "    [theme=dark] .colab-df-convert:hover {\n",
              "      background-color: #434B5C;\n",
              "      box-shadow: 0px 1px 3px 1px rgba(0, 0, 0, 0.15);\n",
              "      filter: drop-shadow(0px 1px 2px rgba(0, 0, 0, 0.3));\n",
              "      fill: #FFFFFF;\n",
              "    }\n",
              "  </style>\n",
              "\n",
              "      <script>\n",
              "        const buttonEl =\n",
              "          document.querySelector('#df-0d1174de-5ddf-4487-a9b0-6d62ad81a4da button.colab-df-convert');\n",
              "        buttonEl.style.display =\n",
              "          google.colab.kernel.accessAllowed ? 'block' : 'none';\n",
              "\n",
              "        async function convertToInteractive(key) {\n",
              "          const element = document.querySelector('#df-0d1174de-5ddf-4487-a9b0-6d62ad81a4da');\n",
              "          const dataTable =\n",
              "            await google.colab.kernel.invokeFunction('convertToInteractive',\n",
              "                                                     [key], {});\n",
              "          if (!dataTable) return;\n",
              "\n",
              "          const docLinkHtml = 'Like what you see? Visit the ' +\n",
              "            '<a target=\"_blank\" href=https://colab.research.google.com/notebooks/data_table.ipynb>data table notebook</a>'\n",
              "            + ' to learn more about interactive tables.';\n",
              "          element.innerHTML = '';\n",
              "          dataTable['output_type'] = 'display_data';\n",
              "          await google.colab.output.renderOutput(dataTable, element);\n",
              "          const docLink = document.createElement('div');\n",
              "          docLink.innerHTML = docLinkHtml;\n",
              "          element.appendChild(docLink);\n",
              "        }\n",
              "      </script>\n",
              "    </div>\n",
              "  </div>\n",
              "  "
            ]
          },
          "metadata": {},
          "execution_count": 116
        }
      ]
    },
    {
      "cell_type": "code",
      "source": [
        "plt.figure(figsize = (10,5))\n",
        "\n",
        "ax = sns.barplot(data = experiment_count, x = 'experiment', y = 'n_users', estimator = lambda x: len(x)/len(experiment_count),\n",
        "                 palette = 'GnBu')\n",
        "\n",
        "ax.bar_label(ax.containers[0])\n",
        "ax.set_ylabel('% usuários', fontsize = 12)\n",
        "ax.set_xlabel('')\n",
        "plt.xticks(fontsize = 12)\n",
        "ax.set_title('Proporção de usuários do experimento', fontsize = 15, pad = 15, horizontalalignment = 'left', x = 0)\n",
        "\n",
        "ax.set_ylim((0, 0.6))\n",
        "\n",
        "plt.show()"
      ],
      "metadata": {
        "colab": {
          "base_uri": "https://localhost:8080/",
          "height": 351
        },
        "id": "wttQV1m7B-Dx",
        "outputId": "57b12db6-22ee-46d6-d55a-dc1f934a1a92"
      },
      "execution_count": 117,
      "outputs": [
        {
          "output_type": "display_data",
          "data": {
            "text/plain": [
              "<Figure size 720x360 with 1 Axes>"
            ],
            "image/png": "[encoded data removed]"
          },
          "metadata": {
            "needs_background": "light"
          }
        }
      ]
    },
    {
      "cell_type": "markdown",
      "source": [
        "# Quantidade de usuários em cada grupo e botões pressionados"
      ],
      "metadata": {
        "id": "QQNwvkicrWUO"
      }
    },
    {
      "cell_type": "code",
      "source": [
        "data['button'] = ['None' for x in data['auction_id']]\n",
        "data.loc[data['yes'] == 1, 'button'] = 'Yes'\n",
        "data.loc[data['no'] == 1, 'button'] = 'No'"
      ],
      "metadata": {
        "id": "j3j_nso0OaK1"
      },
      "execution_count": 118,
      "outputs": []
    },
    {
      "cell_type": "code",
      "source": [
        "experiment_button = data.groupby(['experiment', 'button']).count()\n",
        "experiment_button = experiment_button.reset_index()[['experiment', 'button', 'auction_id']]\n",
        "experiment_button.rename(columns = {'auction_id': 'n_users'}, inplace = True)\n",
        "experiment_button"
      ],
      "metadata": {
        "colab": {
          "base_uri": "https://localhost:8080/",
          "height": 238
        },
        "id": "O1muoTt5Rqnj",
        "outputId": "0e400c3a-4fe8-45d5-e41c-5ad0e0070488"
      },
      "execution_count": 144,
      "outputs": [
        {
          "output_type": "execute_result",
          "data": {
            "text/plain": [
              "  experiment button  n_users\n",
              "0    control     No      322\n",
              "1    control   None     3485\n",
              "2    control    Yes      264\n",
              "3    exposed     No      349\n",
              "4    exposed   None     3349\n",
              "5    exposed    Yes      308"
            ],
            "text/html": [
              "\n",
              "  <div id=\"df-e6c277b2-1204-4ca7-872c-803da59888b7\">\n",
              "    <div class=\"colab-df-container\">\n",
              "      <div>\n",
              "<style scoped>\n",
              "    .dataframe tbody tr th:only-of-type {\n",
              "        vertical-align: middle;\n",
              "    }\n",
              "\n",
              "    .dataframe tbody tr th {\n",
              "        vertical-align: top;\n",
              "    }\n",
              "\n",
              "    .dataframe thead th {\n",
              "        text-align: right;\n",
              "    }\n",
              "</style>\n",
              "<table border=\"1\" class=\"dataframe\">\n",
              "  <thead>\n",
              "    <tr style=\"text-align: right;\">\n",
              "      <th></th>\n",
              "      <th>experiment</th>\n",
              "      <th>button</th>\n",
              "      <th>n_users</th>\n",
              "    </tr>\n",
              "  </thead>\n",
              "  <tbody>\n",
              "    <tr>\n",
              "      <th>0</th>\n",
              "      <td>control</td>\n",
              "      <td>No</td>\n",
              "      <td>322</td>\n",
              "    </tr>\n",
              "    <tr>\n",
              "      <th>1</th>\n",
              "      <td>control</td>\n",
              "      <td>None</td>\n",
              "      <td>3485</td>\n",
              "    </tr>\n",
              "    <tr>\n",
              "      <th>2</th>\n",
              "      <td>control</td>\n",
              "      <td>Yes</td>\n",
              "      <td>264</td>\n",
              "    </tr>\n",
              "    <tr>\n",
              "      <th>3</th>\n",
              "      <td>exposed</td>\n",
              "      <td>No</td>\n",
              "      <td>349</td>\n",
              "    </tr>\n",
              "    <tr>\n",
              "      <th>4</th>\n",
              "      <td>exposed</td>\n",
              "      <td>None</td>\n",
              "      <td>3349</td>\n",
              "    </tr>\n",
              "    <tr>\n",
              "      <th>5</th>\n",
              "      <td>exposed</td>\n",
              "      <td>Yes</td>\n",
              "      <td>308</td>\n",
              "    </tr>\n",
              "  </tbody>\n",
              "</table>\n",
              "</div>\n",
              "      <button class=\"colab-df-convert\" onclick=\"convertToInteractive('df-e6c277b2-1204-4ca7-872c-803da59888b7')\"\n",
              "              title=\"Convert this dataframe to an interactive table.\"\n",
              "              style=\"display:none;\">\n",
              "        \n",
              "  <svg xmlns=\"http://www.w3.org/2000/svg\" height=\"24px\"viewBox=\"0 0 24 24\"\n",
              "       width=\"24px\">\n",
              "    <path d=\"M0 0h24v24H0V0z\" fill=\"none\"/>\n",
              "    <path d=\"M18.56 5.44l.94 2.06.94-2.06 2.06-.94-2.06-.94-.94-2.06-.94 2.06-2.06.94zm-11 1L8.5 8.5l.94-2.06 2.06-.94-2.06-.94L8.5 2.5l-.94 2.06-2.06.94zm10 10l.94 2.06.94-2.06 2.06-.94-2.06-.94-.94-2.06-.94 2.06-2.06.94z\"/><path d=\"M17.41 7.96l-1.37-1.37c-.4-.4-.92-.59-1.43-.59-.52 0-1.04.2-1.43.59L10.3 9.45l-7.72 7.72c-.78.78-.78 2.05 0 2.83L4 21.41c.39.39.9.59 1.41.59.51 0 1.02-.2 1.41-.59l7.78-7.78 2.81-2.81c.8-.78.8-2.07 0-2.86zM5.41 20L4 18.59l7.72-7.72 1.47 1.35L5.41 20z\"/>\n",
              "  </svg>\n",
              "      </button>\n",
              "      \n",
              "  <style>\n",
              "    .colab-df-container {\n",
              "      display:flex;\n",
              "      flex-wrap:wrap;\n",
              "      gap: 12px;\n",
              "    }\n",
              "\n",
              "    .colab-df-convert {\n",
              "      background-color: #E8F0FE;\n",
              "      border: none;\n",
              "      border-radius: 50%;\n",
              "      cursor: pointer;\n",
              "      display: none;\n",
              "      fill: #1967D2;\n",
              "      height: 32px;\n",
              "      padding: 0 0 0 0;\n",
              "      width: 32px;\n",
              "    }\n",
              "\n",
              "    .colab-df-convert:hover {\n",
              "      background-color: #E2EBFA;\n",
              "      box-shadow: 0px 1px 2px rgba(60, 64, 67, 0.3), 0px 1px 3px 1px rgba(60, 64, 67, 0.15);\n",
              "      fill: #174EA6;\n",
              "    }\n",
              "\n",
              "    [theme=dark] .colab-df-convert {\n",
              "      background-color: #3B4455;\n",
              "      fill: #D2E3FC;\n",
              "    }\n",
              "\n",
              "    [theme=dark] .colab-df-convert:hover {\n",
              "      background-color: #434B5C;\n",
              "      box-shadow: 0px 1px 3px 1px rgba(0, 0, 0, 0.15);\n",
              "      filter: drop-shadow(0px 1px 2px rgba(0, 0, 0, 0.3));\n",
              "      fill: #FFFFFF;\n",
              "    }\n",
              "  </style>\n",
              "\n",
              "      <script>\n",
              "        const buttonEl =\n",
              "          document.querySelector('#df-e6c277b2-1204-4ca7-872c-803da59888b7 button.colab-df-convert');\n",
              "        buttonEl.style.display =\n",
              "          google.colab.kernel.accessAllowed ? 'block' : 'none';\n",
              "\n",
              "        async function convertToInteractive(key) {\n",
              "          const element = document.querySelector('#df-e6c277b2-1204-4ca7-872c-803da59888b7');\n",
              "          const dataTable =\n",
              "            await google.colab.kernel.invokeFunction('convertToInteractive',\n",
              "                                                     [key], {});\n",
              "          if (!dataTable) return;\n",
              "\n",
              "          const docLinkHtml = 'Like what you see? Visit the ' +\n",
              "            '<a target=\"_blank\" href=https://colab.research.google.com/notebooks/data_table.ipynb>data table notebook</a>'\n",
              "            + ' to learn more about interactive tables.';\n",
              "          element.innerHTML = '';\n",
              "          dataTable['output_type'] = 'display_data';\n",
              "          await google.colab.output.renderOutput(dataTable, element);\n",
              "          const docLink = document.createElement('div');\n",
              "          docLink.innerHTML = docLinkHtml;\n",
              "          element.appendChild(docLink);\n",
              "        }\n",
              "      </script>\n",
              "    </div>\n",
              "  </div>\n",
              "  "
            ]
          },
          "metadata": {},
          "execution_count": 144
        }
      ]
    },
    {
      "cell_type": "code",
      "source": [
        "plt.figure(figsize = (10,5))\n",
        "\n",
        "ax = sns.barplot(data = experiment_button, x = 'button', y = 'n_users', hue = 'experiment', palette = 'GnBu', order = ['Yes', 'No', 'None'])\n",
        "\n",
        "ax.set_title('Quantidade de usuários em cada grupo e botões pressionados', fontsize = 17, pad = 15, horizontalalignment = 'left', x = 0)\n",
        "\n",
        "ax.bar_label(ax.containers[0])\n",
        "ax.bar_label(ax.containers[1])\n",
        "\n",
        "ax.set_ylabel('')\n",
        "ax.set_xlabel('')\n",
        "\n",
        "plt.xticks(fontsize = 12)\n",
        "plt.yticks([])\n",
        "\n",
        "plt.legend(title='', fontsize = 12)\n",
        "\n",
        "ax.set_ylim((0, 3800))\n",
        "\n",
        "plt.show()"
      ],
      "metadata": {
        "colab": {
          "base_uri": "https://localhost:8080/",
          "height": 352
        },
        "id": "ouD30j2RZGAY",
        "outputId": "a3d5bd28-389b-469b-9de8-7ea686b64e8e"
      },
      "execution_count": 183,
      "outputs": [
        {
          "output_type": "display_data",
          "data": {
            "text/plain": [
              "<Figure size 720x360 with 1 Axes>"
            ],
            "image/png": "[encoded data removed]"
          },
          "metadata": {
            "needs_background": "light"
          }
        }
      ]
    },
    {
      "cell_type": "markdown",
      "source": [
        "* Em números totais, o grupo experimental interagiu mais do que os usuários do grupo de controle.\n",
        "\n",
        "* Entretanto, a diferença é pequena e pode não ser estatisticamente relevante."
      ],
      "metadata": {
        "id": "w7u8Z4Yxrehb"
      }
    },
    {
      "cell_type": "markdown",
      "source": [
        "# Botões pressionados por navegador"
      ],
      "metadata": {
        "id": "IrzgBmfIzLaa"
      }
    },
    {
      "cell_type": "code",
      "source": [
        "browser_none = data.query('button == \"None\"').groupby('browser').count().reset_index()[['browser', 'button']].rename(columns = {'button':'None_button'})\n",
        "browser_yes = data.query('button == \"Yes\"').groupby('browser').count().reset_index()[['browser', 'button']].rename(columns = {'button':'Yes_button'})\n",
        "browser_no = data.query('button == \"No\"').groupby('browser').count().reset_index()[['browser', 'button']].rename(columns = {'button':'No_button'})\n",
        "\n",
        "browser_button = browser_none.merge(right = browser_yes, on = 'browser', how = 'left').merge(right = browser_no, on = 'browser', how = 'left').fillna(0)\n",
        "browser_button"
      ],
      "metadata": {
        "colab": {
          "base_uri": "https://localhost:8080/",
          "height": 520
        },
        "id": "yE6LT47boBjB",
        "outputId": "5cae1022-b749-4ebc-8d25-af081a3ceb8d"
      },
      "execution_count": 258,
      "outputs": [
        {
          "output_type": "execute_result",
          "data": {
            "text/plain": [
              "                       browser  None_button  Yes_button  No_button\n",
              "0                      Android            1         0.0        0.0\n",
              "1                       Chrome            1         1.0        1.0\n",
              "2                Chrome Mobile         3859       314.0      381.0\n",
              "3        Chrome Mobile WebView         1262       116.0      111.0\n",
              "4            Chrome Mobile iOS           50         1.0        0.0\n",
              "5                  Edge Mobile            1         0.0        0.0\n",
              "6                     Facebook          608        69.0       87.0\n",
              "7               Firefox Mobile            1         0.0        0.0\n",
              "8                Mobile Safari          323         4.0       10.0\n",
              "9   Mobile Safari UI/WKWebView           41         0.0        3.0\n",
              "10                  Opera Mini            1         0.0        0.0\n",
              "11                Opera Mobile            3         0.0        0.0\n",
              "12                   Pinterest            3         0.0        0.0\n",
              "13                      Puffin            1         0.0        0.0\n",
              "14            Samsung Internet          679        67.0       78.0"
            ],
            "text/html": [
              "\n",
              "  <div id=\"df-6b789919-17b8-4ced-b159-7ae9a70ff6b5\">\n",
              "    <div class=\"colab-df-container\">\n",
              "      <div>\n",
              "<style scoped>\n",
              "    .dataframe tbody tr th:only-of-type {\n",
              "        vertical-align: middle;\n",
              "    }\n",
              "\n",
              "    .dataframe tbody tr th {\n",
              "        vertical-align: top;\n",
              "    }\n",
              "\n",
              "    .dataframe thead th {\n",
              "        text-align: right;\n",
              "    }\n",
              "</style>\n",
              "<table border=\"1\" class=\"dataframe\">\n",
              "  <thead>\n",
              "    <tr style=\"text-align: right;\">\n",
              "      <th></th>\n",
              "      <th>browser</th>\n",
              "      <th>None_button</th>\n",
              "      <th>Yes_button</th>\n",
              "      <th>No_button</th>\n",
              "    </tr>\n",
              "  </thead>\n",
              "  <tbody>\n",
              "    <tr>\n",
              "      <th>0</th>\n",
              "      <td>Android</td>\n",
              "      <td>1</td>\n",
              "      <td>0.0</td>\n",
              "      <td>0.0</td>\n",
              "    </tr>\n",
              "    <tr>\n",
              "      <th>1</th>\n",
              "      <td>Chrome</td>\n",
              "      <td>1</td>\n",
              "      <td>1.0</td>\n",
              "      <td>1.0</td>\n",
              "    </tr>\n",
              "    <tr>\n",
              "      <th>2</th>\n",
              "      <td>Chrome Mobile</td>\n",
              "      <td>3859</td>\n",
              "      <td>314.0</td>\n",
              "      <td>381.0</td>\n",
              "    </tr>\n",
              "    <tr>\n",
              "      <th>3</th>\n",
              "      <td>Chrome Mobile WebView</td>\n",
              "      <td>1262</td>\n",
              "      <td>116.0</td>\n",
              "      <td>111.0</td>\n",
              "    </tr>\n",
              "    <tr>\n",
              "      <th>4</th>\n",
              "      <td>Chrome Mobile iOS</td>\n",
              "      <td>50</td>\n",
              "      <td>1.0</td>\n",
              "      <td>0.0</td>\n",
              "    </tr>\n",
              "    <tr>\n",
              "      <th>5</th>\n",
              "      <td>Edge Mobile</td>\n",
              "      <td>1</td>\n",
              "      <td>0.0</td>\n",
              "      <td>0.0</td>\n",
              "    </tr>\n",
              "    <tr>\n",
              "      <th>6</th>\n",
              "      <td>Facebook</td>\n",
              "      <td>608</td>\n",
              "      <td>69.0</td>\n",
              "      <td>87.0</td>\n",
              "    </tr>\n",
              "    <tr>\n",
              "      <th>7</th>\n",
              "      <td>Firefox Mobile</td>\n",
              "      <td>1</td>\n",
              "      <td>0.0</td>\n",
              "      <td>0.0</td>\n",
              "    </tr>\n",
              "    <tr>\n",
              "      <th>8</th>\n",
              "      <td>Mobile Safari</td>\n",
              "      <td>323</td>\n",
              "      <td>4.0</td>\n",
              "      <td>10.0</td>\n",
              "    </tr>\n",
              "    <tr>\n",
              "      <th>9</th>\n",
              "      <td>Mobile Safari UI/WKWebView</td>\n",
              "      <td>41</td>\n",
              "      <td>0.0</td>\n",
              "      <td>3.0</td>\n",
              "    </tr>\n",
              "    <tr>\n",
              "      <th>10</th>\n",
              "      <td>Opera Mini</td>\n",
              "      <td>1</td>\n",
              "      <td>0.0</td>\n",
              "      <td>0.0</td>\n",
              "    </tr>\n",
              "    <tr>\n",
              "      <th>11</th>\n",
              "      <td>Opera Mobile</td>\n",
              "      <td>3</td>\n",
              "      <td>0.0</td>\n",
              "      <td>0.0</td>\n",
              "    </tr>\n",
              "    <tr>\n",
              "      <th>12</th>\n",
              "      <td>Pinterest</td>\n",
              "      <td>3</td>\n",
              "      <td>0.0</td>\n",
              "      <td>0.0</td>\n",
              "    </tr>\n",
              "    <tr>\n",
              "      <th>13</th>\n",
              "      <td>Puffin</td>\n",
              "      <td>1</td>\n",
              "      <td>0.0</td>\n",
              "      <td>0.0</td>\n",
              "    </tr>\n",
              "    <tr>\n",
              "      <th>14</th>\n",
              "      <td>Samsung Internet</td>\n",
              "      <td>679</td>\n",
              "      <td>67.0</td>\n",
              "      <td>78.0</td>\n",
              "    </tr>\n",
              "  </tbody>\n",
              "</table>\n",
              "</div>\n",
              "      <button class=\"colab-df-convert\" onclick=\"convertToInteractive('df-6b789919-17b8-4ced-b159-7ae9a70ff6b5')\"\n",
              "              title=\"Convert this dataframe to an interactive table.\"\n",
              "              style=\"display:none;\">\n",
              "        \n",
              "  <svg xmlns=\"http://www.w3.org/2000/svg\" height=\"24px\"viewBox=\"0 0 24 24\"\n",
              "       width=\"24px\">\n",
              "    <path d=\"M0 0h24v24H0V0z\" fill=\"none\"/>\n",
              "    <path d=\"M18.56 5.44l.94 2.06.94-2.06 2.06-.94-2.06-.94-.94-2.06-.94 2.06-2.06.94zm-11 1L8.5 8.5l.94-2.06 2.06-.94-2.06-.94L8.5 2.5l-.94 2.06-2.06.94zm10 10l.94 2.06.94-2.06 2.06-.94-2.06-.94-.94-2.06-.94 2.06-2.06.94z\"/><path d=\"M17.41 7.96l-1.37-1.37c-.4-.4-.92-.59-1.43-.59-.52 0-1.04.2-1.43.59L10.3 9.45l-7.72 7.72c-.78.78-.78 2.05 0 2.83L4 21.41c.39.39.9.59 1.41.59.51 0 1.02-.2 1.41-.59l7.78-7.78 2.81-2.81c.8-.78.8-2.07 0-2.86zM5.41 20L4 18.59l7.72-7.72 1.47 1.35L5.41 20z\"/>\n",
              "  </svg>\n",
              "      </button>\n",
              "      \n",
              "  <style>\n",
              "    .colab-df-container {\n",
              "      display:flex;\n",
              "      flex-wrap:wrap;\n",
              "      gap: 12px;\n",
              "    }\n",
              "\n",
              "    .colab-df-convert {\n",
              "      background-color: #E8F0FE;\n",
              "      border: none;\n",
              "      border-radius: 50%;\n",
              "      cursor: pointer;\n",
              "      display: none;\n",
              "      fill: #1967D2;\n",
              "      height: 32px;\n",
              "      padding: 0 0 0 0;\n",
              "      width: 32px;\n",
              "    }\n",
              "\n",
              "    .colab-df-convert:hover {\n",
              "      background-color: #E2EBFA;\n",
              "      box-shadow: 0px 1px 2px rgba(60, 64, 67, 0.3), 0px 1px 3px 1px rgba(60, 64, 67, 0.15);\n",
              "      fill: #174EA6;\n",
              "    }\n",
              "\n",
              "    [theme=dark] .colab-df-convert {\n",
              "      background-color: #3B4455;\n",
              "      fill: #D2E3FC;\n",
              "    }\n",
              "\n",
              "    [theme=dark] .colab-df-convert:hover {\n",
              "      background-color: #434B5C;\n",
              "      box-shadow: 0px 1px 3px 1px rgba(0, 0, 0, 0.15);\n",
              "      filter: drop-shadow(0px 1px 2px rgba(0, 0, 0, 0.3));\n",
              "      fill: #FFFFFF;\n",
              "    }\n",
              "  </style>\n",
              "\n",
              "      <script>\n",
              "        const buttonEl =\n",
              "          document.querySelector('#df-6b789919-17b8-4ced-b159-7ae9a70ff6b5 button.colab-df-convert');\n",
              "        buttonEl.style.display =\n",
              "          google.colab.kernel.accessAllowed ? 'block' : 'none';\n",
              "\n",
              "        async function convertToInteractive(key) {\n",
              "          const element = document.querySelector('#df-6b789919-17b8-4ced-b159-7ae9a70ff6b5');\n",
              "          const dataTable =\n",
              "            await google.colab.kernel.invokeFunction('convertToInteractive',\n",
              "                                                     [key], {});\n",
              "          if (!dataTable) return;\n",
              "\n",
              "          const docLinkHtml = 'Like what you see? Visit the ' +\n",
              "            '<a target=\"_blank\" href=https://colab.research.google.com/notebooks/data_table.ipynb>data table notebook</a>'\n",
              "            + ' to learn more about interactive tables.';\n",
              "          element.innerHTML = '';\n",
              "          dataTable['output_type'] = 'display_data';\n",
              "          await google.colab.output.renderOutput(dataTable, element);\n",
              "          const docLink = document.createElement('div');\n",
              "          docLink.innerHTML = docLinkHtml;\n",
              "          element.appendChild(docLink);\n",
              "        }\n",
              "      </script>\n",
              "    </div>\n",
              "  </div>\n",
              "  "
            ]
          },
          "metadata": {},
          "execution_count": 258
        }
      ]
    },
    {
      "cell_type": "code",
      "source": [
        "browser_button['total_clicks'] = browser_button['None_button'] + browser_button['No_button'] + browser_button['Yes_button']\n",
        "browser_button['%None_button'] = ((browser_button['None_button'] / browser_button['total_clicks']) * 100).round(2)\n",
        "browser_button['%No_button'] = ((browser_button['No_button'] / browser_button['total_clicks']) * 100).round(2)\n",
        "browser_button['%Yes_button'] = ((browser_button['Yes_button'] / browser_button['total_clicks']) * 100).round(2)\n",
        "\n",
        "browser_button"
      ],
      "metadata": {
        "colab": {
          "base_uri": "https://localhost:8080/",
          "height": 520
        },
        "id": "wh_f2l6H6b6S",
        "outputId": "52b43398-cd71-4db0-8e1c-c9f4d17a8dea"
      },
      "execution_count": 294,
      "outputs": [
        {
          "output_type": "execute_result",
          "data": {
            "text/plain": [
              "                       browser  None_button  Yes_button  No_button  \\\n",
              "0                      Android            1         0.0        0.0   \n",
              "1                       Chrome            1         1.0        1.0   \n",
              "2                Chrome Mobile         3859       314.0      381.0   \n",
              "3        Chrome Mobile WebView         1262       116.0      111.0   \n",
              "4            Chrome Mobile iOS           50         1.0        0.0   \n",
              "5                  Edge Mobile            1         0.0        0.0   \n",
              "6                     Facebook          608        69.0       87.0   \n",
              "7               Firefox Mobile            1         0.0        0.0   \n",
              "8                Mobile Safari          323         4.0       10.0   \n",
              "9   Mobile Safari UI/WKWebView           41         0.0        3.0   \n",
              "10                  Opera Mini            1         0.0        0.0   \n",
              "11                Opera Mobile            3         0.0        0.0   \n",
              "12                   Pinterest            3         0.0        0.0   \n",
              "13                      Puffin            1         0.0        0.0   \n",
              "14            Samsung Internet          679        67.0       78.0   \n",
              "\n",
              "    total_clicks  %None_button  %No_button  %Yes_button  \n",
              "0            1.0        100.00        0.00         0.00  \n",
              "1            3.0         33.33       33.33        33.33  \n",
              "2         4554.0         84.74        8.37         6.90  \n",
              "3         1489.0         84.75        7.45         7.79  \n",
              "4           51.0         98.04        0.00         1.96  \n",
              "5            1.0        100.00        0.00         0.00  \n",
              "6          764.0         79.58       11.39         9.03  \n",
              "7            1.0        100.00        0.00         0.00  \n",
              "8          337.0         95.85        2.97         1.19  \n",
              "9           44.0         93.18        6.82         0.00  \n",
              "10           1.0        100.00        0.00         0.00  \n",
              "11           3.0        100.00        0.00         0.00  \n",
              "12           3.0        100.00        0.00         0.00  \n",
              "13           1.0        100.00        0.00         0.00  \n",
              "14         824.0         82.40        9.47         8.13  "
            ],
            "text/html": [
              "\n",
              "  <div id=\"df-b53ad060-8bdf-4bca-8863-398835226c62\">\n",
              "    <div class=\"colab-df-container\">\n",
              "      <div>\n",
              "<style scoped>\n",
              "    .dataframe tbody tr th:only-of-type {\n",
              "        vertical-align: middle;\n",
              "    }\n",
              "\n",
              "    .dataframe tbody tr th {\n",
              "        vertical-align: top;\n",
              "    }\n",
              "\n",
              "    .dataframe thead th {\n",
              "        text-align: right;\n",
              "    }\n",
              "</style>\n",
              "<table border=\"1\" class=\"dataframe\">\n",
              "  <thead>\n",
              "    <tr style=\"text-align: right;\">\n",
              "      <th></th>\n",
              "      <th>browser</th>\n",
              "      <th>None_button</th>\n",
              "      <th>Yes_button</th>\n",
              "      <th>No_button</th>\n",
              "      <th>total_clicks</th>\n",
              "      <th>%None_button</th>\n",
              "      <th>%No_button</th>\n",
              "      <th>%Yes_button</th>\n",
              "    </tr>\n",
              "  </thead>\n",
              "  <tbody>\n",
              "    <tr>\n",
              "      <th>0</th>\n",
              "      <td>Android</td>\n",
              "      <td>1</td>\n",
              "      <td>0.0</td>\n",
              "      <td>0.0</td>\n",
              "      <td>1.0</td>\n",
              "      <td>100.00</td>\n",
              "      <td>0.00</td>\n",
              "      <td>0.00</td>\n",
              "    </tr>\n",
              "    <tr>\n",
              "      <th>1</th>\n",
              "      <td>Chrome</td>\n",
              "      <td>1</td>\n",
              "      <td>1.0</td>\n",
              "      <td>1.0</td>\n",
              "      <td>3.0</td>\n",
              "      <td>33.33</td>\n",
              "      <td>33.33</td>\n",
              "      <td>33.33</td>\n",
              "    </tr>\n",
              "    <tr>\n",
              "      <th>2</th>\n",
              "      <td>Chrome Mobile</td>\n",
              "      <td>3859</td>\n",
              "      <td>314.0</td>\n",
              "      <td>381.0</td>\n",
              "      <td>4554.0</td>\n",
              "      <td>84.74</td>\n",
              "      <td>8.37</td>\n",
              "      <td>6.90</td>\n",
              "    </tr>\n",
              "    <tr>\n",
              "      <th>3</th>\n",
              "      <td>Chrome Mobile WebView</td>\n",
              "      <td>1262</td>\n",
              "      <td>116.0</td>\n",
              "      <td>111.0</td>\n",
              "      <td>1489.0</td>\n",
              "      <td>84.75</td>\n",
              "      <td>7.45</td>\n",
              "      <td>7.79</td>\n",
              "    </tr>\n",
              "    <tr>\n",
              "      <th>4</th>\n",
              "      <td>Chrome Mobile iOS</td>\n",
              "      <td>50</td>\n",
              "      <td>1.0</td>\n",
              "      <td>0.0</td>\n",
              "      <td>51.0</td>\n",
              "      <td>98.04</td>\n",
              "      <td>0.00</td>\n",
              "      <td>1.96</td>\n",
              "    </tr>\n",
              "    <tr>\n",
              "      <th>5</th>\n",
              "      <td>Edge Mobile</td>\n",
              "      <td>1</td>\n",
              "      <td>0.0</td>\n",
              "      <td>0.0</td>\n",
              "      <td>1.0</td>\n",
              "      <td>100.00</td>\n",
              "      <td>0.00</td>\n",
              "      <td>0.00</td>\n",
              "    </tr>\n",
              "    <tr>\n",
              "      <th>6</th>\n",
              "      <td>Facebook</td>\n",
              "      <td>608</td>\n",
              "      <td>69.0</td>\n",
              "      <td>87.0</td>\n",
              "      <td>764.0</td>\n",
              "      <td>79.58</td>\n",
              "      <td>11.39</td>\n",
              "      <td>9.03</td>\n",
              "    </tr>\n",
              "    <tr>\n",
              "      <th>7</th>\n",
              "      <td>Firefox Mobile</td>\n",
              "      <td>1</td>\n",
              "      <td>0.0</td>\n",
              "      <td>0.0</td>\n",
              "      <td>1.0</td>\n",
              "      <td>100.00</td>\n",
              "      <td>0.00</td>\n",
              "      <td>0.00</td>\n",
              "    </tr>\n",
              "    <tr>\n",
              "      <th>8</th>\n",
              "      <td>Mobile Safari</td>\n",
              "      <td>323</td>\n",
              "      <td>4.0</td>\n",
              "      <td>10.0</td>\n",
              "      <td>337.0</td>\n",
              "      <td>95.85</td>\n",
              "      <td>2.97</td>\n",
              "      <td>1.19</td>\n",
              "    </tr>\n",
              "    <tr>\n",
              "      <th>9</th>\n",
              "      <td>Mobile Safari UI/WKWebView</td>\n",
              "      <td>41</td>\n",
              "      <td>0.0</td>\n",
              "      <td>3.0</td>\n",
              "      <td>44.0</td>\n",
              "      <td>93.18</td>\n",
              "      <td>6.82</td>\n",
              "      <td>0.00</td>\n",
              "    </tr>\n",
              "    <tr>\n",
              "      <th>10</th>\n",
              "      <td>Opera Mini</td>\n",
              "      <td>1</td>\n",
              "      <td>0.0</td>\n",
              "      <td>0.0</td>\n",
              "      <td>1.0</td>\n",
              "      <td>100.00</td>\n",
              "      <td>0.00</td>\n",
              "      <td>0.00</td>\n",
              "    </tr>\n",
              "    <tr>\n",
              "      <th>11</th>\n",
              "      <td>Opera Mobile</td>\n",
              "      <td>3</td>\n",
              "      <td>0.0</td>\n",
              "      <td>0.0</td>\n",
              "      <td>3.0</td>\n",
              "      <td>100.00</td>\n",
              "      <td>0.00</td>\n",
              "      <td>0.00</td>\n",
              "    </tr>\n",
              "    <tr>\n",
              "      <th>12</th>\n",
              "      <td>Pinterest</td>\n",
              "      <td>3</td>\n",
              "      <td>0.0</td>\n",
              "      <td>0.0</td>\n",
              "      <td>3.0</td>\n",
              "      <td>100.00</td>\n",
              "      <td>0.00</td>\n",
              "      <td>0.00</td>\n",
              "    </tr>\n",
              "    <tr>\n",
              "      <th>13</th>\n",
              "      <td>Puffin</td>\n",
              "      <td>1</td>\n",
              "      <td>0.0</td>\n",
              "      <td>0.0</td>\n",
              "      <td>1.0</td>\n",
              "      <td>100.00</td>\n",
              "      <td>0.00</td>\n",
              "      <td>0.00</td>\n",
              "    </tr>\n",
              "    <tr>\n",
              "      <th>14</th>\n",
              "      <td>Samsung Internet</td>\n",
              "      <td>679</td>\n",
              "      <td>67.0</td>\n",
              "      <td>78.0</td>\n",
              "      <td>824.0</td>\n",
              "      <td>82.40</td>\n",
              "      <td>9.47</td>\n",
              "      <td>8.13</td>\n",
              "    </tr>\n",
              "  </tbody>\n",
              "</table>\n",
              "</div>\n",
              "      <button class=\"colab-df-convert\" onclick=\"convertToInteractive('df-b53ad060-8bdf-4bca-8863-398835226c62')\"\n",
              "              title=\"Convert this dataframe to an interactive table.\"\n",
              "              style=\"display:none;\">\n",
              "        \n",
              "  <svg xmlns=\"http://www.w3.org/2000/svg\" height=\"24px\"viewBox=\"0 0 24 24\"\n",
              "       width=\"24px\">\n",
              "    <path d=\"M0 0h24v24H0V0z\" fill=\"none\"/>\n",
              "    <path d=\"M18.56 5.44l.94 2.06.94-2.06 2.06-.94-2.06-.94-.94-2.06-.94 2.06-2.06.94zm-11 1L8.5 8.5l.94-2.06 2.06-.94-2.06-.94L8.5 2.5l-.94 2.06-2.06.94zm10 10l.94 2.06.94-2.06 2.06-.94-2.06-.94-.94-2.06-.94 2.06-2.06.94z\"/><path d=\"M17.41 7.96l-1.37-1.37c-.4-.4-.92-.59-1.43-.59-.52 0-1.04.2-1.43.59L10.3 9.45l-7.72 7.72c-.78.78-.78 2.05 0 2.83L4 21.41c.39.39.9.59 1.41.59.51 0 1.02-.2 1.41-.59l7.78-7.78 2.81-2.81c.8-.78.8-2.07 0-2.86zM5.41 20L4 18.59l7.72-7.72 1.47 1.35L5.41 20z\"/>\n",
              "  </svg>\n",
              "      </button>\n",
              "      \n",
              "  <style>\n",
              "    .colab-df-container {\n",
              "      display:flex;\n",
              "      flex-wrap:wrap;\n",
              "      gap: 12px;\n",
              "    }\n",
              "\n",
              "    .colab-df-convert {\n",
              "      background-color: #E8F0FE;\n",
              "      border: none;\n",
              "      border-radius: 50%;\n",
              "      cursor: pointer;\n",
              "      display: none;\n",
              "      fill: #1967D2;\n",
              "      height: 32px;\n",
              "      padding: 0 0 0 0;\n",
              "      width: 32px;\n",
              "    }\n",
              "\n",
              "    .colab-df-convert:hover {\n",
              "      background-color: #E2EBFA;\n",
              "      box-shadow: 0px 1px 2px rgba(60, 64, 67, 0.3), 0px 1px 3px 1px rgba(60, 64, 67, 0.15);\n",
              "      fill: #174EA6;\n",
              "    }\n",
              "\n",
              "    [theme=dark] .colab-df-convert {\n",
              "      background-color: #3B4455;\n",
              "      fill: #D2E3FC;\n",
              "    }\n",
              "\n",
              "    [theme=dark] .colab-df-convert:hover {\n",
              "      background-color: #434B5C;\n",
              "      box-shadow: 0px 1px 3px 1px rgba(0, 0, 0, 0.15);\n",
              "      filter: drop-shadow(0px 1px 2px rgba(0, 0, 0, 0.3));\n",
              "      fill: #FFFFFF;\n",
              "    }\n",
              "  </style>\n",
              "\n",
              "      <script>\n",
              "        const buttonEl =\n",
              "          document.querySelector('#df-b53ad060-8bdf-4bca-8863-398835226c62 button.colab-df-convert');\n",
              "        buttonEl.style.display =\n",
              "          google.colab.kernel.accessAllowed ? 'block' : 'none';\n",
              "\n",
              "        async function convertToInteractive(key) {\n",
              "          const element = document.querySelector('#df-b53ad060-8bdf-4bca-8863-398835226c62');\n",
              "          const dataTable =\n",
              "            await google.colab.kernel.invokeFunction('convertToInteractive',\n",
              "                                                     [key], {});\n",
              "          if (!dataTable) return;\n",
              "\n",
              "          const docLinkHtml = 'Like what you see? Visit the ' +\n",
              "            '<a target=\"_blank\" href=https://colab.research.google.com/notebooks/data_table.ipynb>data table notebook</a>'\n",
              "            + ' to learn more about interactive tables.';\n",
              "          element.innerHTML = '';\n",
              "          dataTable['output_type'] = 'display_data';\n",
              "          await google.colab.output.renderOutput(dataTable, element);\n",
              "          const docLink = document.createElement('div');\n",
              "          docLink.innerHTML = docLinkHtml;\n",
              "          element.appendChild(docLink);\n",
              "        }\n",
              "      </script>\n",
              "    </div>\n",
              "  </div>\n",
              "  "
            ]
          },
          "metadata": {},
          "execution_count": 294
        }
      ]
    },
    {
      "cell_type": "code",
      "source": [
        "plt.figure(figsize = (10,8))\n",
        "ax = sns.barplot(data = browser_button, y = 'browser', x = '%None_button')\n",
        "ax.set_title('Porcentagem de usuários que não cliclaram em nenhum botão em cada navegador')\n",
        "    \n",
        "ax.bar_label(ax.containers[0])\n",
        "ax.set_xlim((0, 110))\n",
        "plt.show()"
      ],
      "metadata": {
        "colab": {
          "base_uri": "https://localhost:8080/",
          "height": 514
        },
        "id": "kKgGgGu7vihu",
        "outputId": "d703b5f9-f074-40a3-b2f4-9137bef9f212"
      },
      "execution_count": 295,
      "outputs": [
        {
          "output_type": "display_data",
          "data": {
            "text/plain": [
              "<Figure size 720x576 with 1 Axes>"
            ],
            "image/png": "[encoded data removed]"
          },
          "metadata": {
            "needs_background": "light"
          }
        }
      ]
    },
    {
      "cell_type": "code",
      "source": [
        "plt.figure(figsize = (10,8))\n",
        "ax = sns.barplot(data = browser_button, y = 'browser', x = '%No_button')\n",
        "ax.set_title('Porcentagem de usuários que clicaram no botão \"Não\" em cada navegador')\n",
        "    \n",
        "ax.bar_label(ax.containers[0])\n",
        "ax.set_xlim((0, 110))\n",
        "plt.show()"
      ],
      "metadata": {
        "colab": {
          "base_uri": "https://localhost:8080/",
          "height": 514
        },
        "id": "DhBdvE_7zu58",
        "outputId": "ffff2ec8-aa31-42d6-c755-8d8db8688a33"
      },
      "execution_count": 300,
      "outputs": [
        {
          "output_type": "display_data",
          "data": {
            "text/plain": [
              "<Figure size 720x576 with 1 Axes>"
            ],
            "image/png": "[encoded data removed]"
          },
          "metadata": {
            "needs_background": "light"
          }
        }
      ]
    },
    {
      "cell_type": "code",
      "source": [
        "plt.figure(figsize = (10,8))\n",
        "ax = sns.barplot(data = browser_button, y = 'browser', x = '%Yes_button')\n",
        "ax.set_title('Porcentagem de usuários que clicaram no botão \"Sim\" em cada navegador')\n",
        "    \n",
        "ax.bar_label(ax.containers[0])\n",
        "ax.set_xlim((0, 110))\n",
        "plt.show()"
      ],
      "metadata": {
        "colab": {
          "base_uri": "https://localhost:8080/",
          "height": 514
        },
        "id": "vf14rJC650qp",
        "outputId": "7f04c02b-ff3c-425f-9ea3-a0a79123b5f3"
      },
      "execution_count": 299,
      "outputs": [
        {
          "output_type": "display_data",
          "data": {
            "text/plain": [
              "<Figure size 720x576 with 1 Axes>"
            ],
            "image/png": "[encoded data removed]"
          },
          "metadata": {
            "needs_background": "light"
          }
        }
      ]
    },
    {
      "cell_type": "markdown",
      "source": [
        "* Os navegadores Chrome, Edge Mobile, Firefox Mobile, Opera Mobile e Pinteres tiveram menos que cinco visualizações da propaganda. Estes serão removidos."
      ],
      "metadata": {
        "id": "Pi1hMfkiBMjp"
      }
    }
  ]
}